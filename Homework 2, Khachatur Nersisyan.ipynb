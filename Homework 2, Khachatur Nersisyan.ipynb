{
 "cells": [
  {
   "cell_type": "code",
   "execution_count": 51,
   "id": "9b33bd0a-d5da-4936-8691-ebfbf98071cb",
   "metadata": {
    "tags": []
   },
   "outputs": [
    {
     "data": {
      "text/plain": [
       "True"
      ]
     },
     "execution_count": 51,
     "metadata": {},
     "output_type": "execute_result"
    }
   ],
   "source": [
    "import matplotlib\n",
    "import matplotlib.pyplot as plt\n",
    "import numpy as np\n",
    "import pandas as pd\n",
    "matplotlib.interactive(True)\n",
    "plt.ion()\n",
    "matplotlib.is_interactive()"
   ]
  },
  {
   "cell_type": "code",
   "execution_count": 52,
   "id": "9cd90338-5c03-4738-a2c1-c0a94b29b0ee",
   "metadata": {
    "tags": []
   },
   "outputs": [],
   "source": [
    "data = pd.read_csv('C:/Users/USER/Desktop/weather-check.csv')"
   ]
  },
  {
   "cell_type": "code",
   "execution_count": 53,
   "id": "d34b7d7d-9466-49db-ae3f-408f7792471a",
   "metadata": {
    "tags": []
   },
   "outputs": [
    {
     "data": {
      "text/html": [
       "<div>\n",
       "<style scoped>\n",
       "    .dataframe tbody tr th:only-of-type {\n",
       "        vertical-align: middle;\n",
       "    }\n",
       "\n",
       "    .dataframe tbody tr th {\n",
       "        vertical-align: top;\n",
       "    }\n",
       "\n",
       "    .dataframe thead th {\n",
       "        text-align: right;\n",
       "    }\n",
       "</style>\n",
       "<table border=\"1\" class=\"dataframe\">\n",
       "  <thead>\n",
       "    <tr style=\"text-align: right;\">\n",
       "      <th></th>\n",
       "      <th>RespondentID</th>\n",
       "      <th>Do you typically check a daily weather report?</th>\n",
       "      <th>How do you typically check the weather?</th>\n",
       "      <th>A specific website or app (please provide the answer)</th>\n",
       "      <th>If you had a smartwatch (like the soon to be released Apple Watch), how likely or unlikely would you be to check the weather on that device?</th>\n",
       "      <th>Age</th>\n",
       "      <th>What is your gender?</th>\n",
       "      <th>How much total combined money did all members of your HOUSEHOLD earn last year?</th>\n",
       "      <th>US Region</th>\n",
       "    </tr>\n",
       "  </thead>\n",
       "  <tbody>\n",
       "    <tr>\n",
       "      <th>0</th>\n",
       "      <td>3887201482</td>\n",
       "      <td>Yes</td>\n",
       "      <td>The default weather app on your phone</td>\n",
       "      <td>-</td>\n",
       "      <td>Very likely</td>\n",
       "      <td>30 - 44</td>\n",
       "      <td>Male</td>\n",
       "      <td>$50,000 to $74,999</td>\n",
       "      <td>South Atlantic</td>\n",
       "    </tr>\n",
       "    <tr>\n",
       "      <th>1</th>\n",
       "      <td>3887159451</td>\n",
       "      <td>Yes</td>\n",
       "      <td>The default weather app on your phone</td>\n",
       "      <td>-</td>\n",
       "      <td>Very likely</td>\n",
       "      <td>18 - 29</td>\n",
       "      <td>Male</td>\n",
       "      <td>Prefer not to answer</td>\n",
       "      <td>-</td>\n",
       "    </tr>\n",
       "    <tr>\n",
       "      <th>2</th>\n",
       "      <td>3887152228</td>\n",
       "      <td>Yes</td>\n",
       "      <td>The default weather app on your phone</td>\n",
       "      <td>-</td>\n",
       "      <td>Very likely</td>\n",
       "      <td>30 - 44</td>\n",
       "      <td>Male</td>\n",
       "      <td>$100,000 to $124,999</td>\n",
       "      <td>Middle Atlantic</td>\n",
       "    </tr>\n",
       "    <tr>\n",
       "      <th>3</th>\n",
       "      <td>3887145426</td>\n",
       "      <td>Yes</td>\n",
       "      <td>The default weather app on your phone</td>\n",
       "      <td>-</td>\n",
       "      <td>Somewhat likely</td>\n",
       "      <td>30 - 44</td>\n",
       "      <td>Male</td>\n",
       "      <td>Prefer not to answer</td>\n",
       "      <td>-</td>\n",
       "    </tr>\n",
       "    <tr>\n",
       "      <th>4</th>\n",
       "      <td>3887021873</td>\n",
       "      <td>Yes</td>\n",
       "      <td>A specific website or app (please provide the ...</td>\n",
       "      <td>Iphone app</td>\n",
       "      <td>Very likely</td>\n",
       "      <td>30 - 44</td>\n",
       "      <td>Male</td>\n",
       "      <td>$150,000 to $174,999</td>\n",
       "      <td>Middle Atlantic</td>\n",
       "    </tr>\n",
       "    <tr>\n",
       "      <th>...</th>\n",
       "      <td>...</td>\n",
       "      <td>...</td>\n",
       "      <td>...</td>\n",
       "      <td>...</td>\n",
       "      <td>...</td>\n",
       "      <td>...</td>\n",
       "      <td>...</td>\n",
       "      <td>...</td>\n",
       "      <td>...</td>\n",
       "    </tr>\n",
       "    <tr>\n",
       "      <th>923</th>\n",
       "      <td>3877568054</td>\n",
       "      <td>Yes</td>\n",
       "      <td>The Weather Channel</td>\n",
       "      <td>-</td>\n",
       "      <td>Very likely</td>\n",
       "      <td>45 - 59</td>\n",
       "      <td>Female</td>\n",
       "      <td>Prefer not to answer</td>\n",
       "      <td>Pacific</td>\n",
       "    </tr>\n",
       "    <tr>\n",
       "      <th>924</th>\n",
       "      <td>3877568053</td>\n",
       "      <td>Yes</td>\n",
       "      <td>The default weather app on your phone</td>\n",
       "      <td>-</td>\n",
       "      <td>Very likely</td>\n",
       "      <td>30 - 44</td>\n",
       "      <td>Female</td>\n",
       "      <td>Prefer not to answer</td>\n",
       "      <td>South Atlantic</td>\n",
       "    </tr>\n",
       "    <tr>\n",
       "      <th>925</th>\n",
       "      <td>3877566926</td>\n",
       "      <td>Yes</td>\n",
       "      <td>Local TV News</td>\n",
       "      <td>-</td>\n",
       "      <td>Somewhat likely</td>\n",
       "      <td>60+</td>\n",
       "      <td>Female</td>\n",
       "      <td>Prefer not to answer</td>\n",
       "      <td>Pacific</td>\n",
       "    </tr>\n",
       "    <tr>\n",
       "      <th>926</th>\n",
       "      <td>3877551536</td>\n",
       "      <td>No</td>\n",
       "      <td>-</td>\n",
       "      <td>-</td>\n",
       "      <td>-</td>\n",
       "      <td>-</td>\n",
       "      <td>-</td>\n",
       "      <td>-</td>\n",
       "      <td>-</td>\n",
       "    </tr>\n",
       "    <tr>\n",
       "      <th>927</th>\n",
       "      <td>3877548893</td>\n",
       "      <td>Yes</td>\n",
       "      <td>-</td>\n",
       "      <td>-</td>\n",
       "      <td>-</td>\n",
       "      <td>-</td>\n",
       "      <td>-</td>\n",
       "      <td>-</td>\n",
       "      <td>-</td>\n",
       "    </tr>\n",
       "  </tbody>\n",
       "</table>\n",
       "<p>928 rows × 9 columns</p>\n",
       "</div>"
      ],
      "text/plain": [
       "     RespondentID Do you typically check a daily weather report?  \\\n",
       "0      3887201482                                            Yes   \n",
       "1      3887159451                                            Yes   \n",
       "2      3887152228                                            Yes   \n",
       "3      3887145426                                            Yes   \n",
       "4      3887021873                                            Yes   \n",
       "..            ...                                            ...   \n",
       "923    3877568054                                            Yes   \n",
       "924    3877568053                                            Yes   \n",
       "925    3877566926                                            Yes   \n",
       "926    3877551536                                             No   \n",
       "927    3877548893                                            Yes   \n",
       "\n",
       "               How do you typically check the weather?  \\\n",
       "0                The default weather app on your phone   \n",
       "1                The default weather app on your phone   \n",
       "2                The default weather app on your phone   \n",
       "3                The default weather app on your phone   \n",
       "4    A specific website or app (please provide the ...   \n",
       "..                                                 ...   \n",
       "923                                The Weather Channel   \n",
       "924              The default weather app on your phone   \n",
       "925                                      Local TV News   \n",
       "926                                                  -   \n",
       "927                                                  -   \n",
       "\n",
       "    A specific website or app (please provide the answer)  \\\n",
       "0                                                    -      \n",
       "1                                                    -      \n",
       "2                                                    -      \n",
       "3                                                    -      \n",
       "4                                           Iphone app      \n",
       "..                                                 ...      \n",
       "923                                                  -      \n",
       "924                                                  -      \n",
       "925                                                  -      \n",
       "926                                                  -      \n",
       "927                                                  -      \n",
       "\n",
       "    If you had a smartwatch (like the soon to be released Apple Watch), how likely or unlikely would you be to check the weather on that device?  \\\n",
       "0                                          Very likely                                                                                             \n",
       "1                                          Very likely                                                                                             \n",
       "2                                          Very likely                                                                                             \n",
       "3                                      Somewhat likely                                                                                             \n",
       "4                                          Very likely                                                                                             \n",
       "..                                                 ...                                                                                             \n",
       "923                                        Very likely                                                                                             \n",
       "924                                        Very likely                                                                                             \n",
       "925                                    Somewhat likely                                                                                             \n",
       "926                                                  -                                                                                             \n",
       "927                                                  -                                                                                             \n",
       "\n",
       "         Age What is your gender?  \\\n",
       "0    30 - 44                 Male   \n",
       "1    18 - 29                 Male   \n",
       "2    30 - 44                 Male   \n",
       "3    30 - 44                 Male   \n",
       "4    30 - 44                 Male   \n",
       "..       ...                  ...   \n",
       "923  45 - 59               Female   \n",
       "924  30 - 44               Female   \n",
       "925      60+               Female   \n",
       "926        -                    -   \n",
       "927        -                    -   \n",
       "\n",
       "    How much total combined money did all members of your HOUSEHOLD earn last year?  \\\n",
       "0                                   $50,000 to $74,999                                \n",
       "1                                 Prefer not to answer                                \n",
       "2                                 $100,000 to $124,999                                \n",
       "3                                 Prefer not to answer                                \n",
       "4                                 $150,000 to $174,999                                \n",
       "..                                                 ...                                \n",
       "923                               Prefer not to answer                                \n",
       "924                               Prefer not to answer                                \n",
       "925                               Prefer not to answer                                \n",
       "926                                                  -                                \n",
       "927                                                  -                                \n",
       "\n",
       "           US Region  \n",
       "0     South Atlantic  \n",
       "1                  -  \n",
       "2    Middle Atlantic  \n",
       "3                  -  \n",
       "4    Middle Atlantic  \n",
       "..               ...  \n",
       "923          Pacific  \n",
       "924   South Atlantic  \n",
       "925          Pacific  \n",
       "926                -  \n",
       "927                -  \n",
       "\n",
       "[928 rows x 9 columns]"
      ]
     },
     "execution_count": 53,
     "metadata": {},
     "output_type": "execute_result"
    }
   ],
   "source": [
    "data"
   ]
  },
  {
   "cell_type": "code",
   "execution_count": 54,
   "id": "5aa1fe04-8ce7-4f69-bacd-9c0e64cf5484",
   "metadata": {
    "tags": []
   },
   "outputs": [],
   "source": [
    "var_col = data[['If you had a smartwatch (like the soon to be released Apple Watch), how likely or unlikely would you be to check the weather on that device?',\n",
    "                       'Age']]"
   ]
  },
  {
   "cell_type": "code",
   "execution_count": 55,
   "id": "ab7b34cd-58b6-4a8f-ac8e-39e454df699c",
   "metadata": {
    "tags": []
   },
   "outputs": [],
   "source": [
    "var_col = var_col.dropna()"
   ]
  },
  {
   "cell_type": "markdown",
   "id": "25567cc9-d24c-4f8c-9d92-f29a2958b31c",
   "metadata": {},
   "source": [
    "# Chart 1"
   ]
  },
  {
   "cell_type": "code",
   "execution_count": 68,
   "id": "4c200808-3879-4fbb-b891-8eff3ef4962c",
   "metadata": {
    "tags": []
   },
   "outputs": [
    {
     "data": {
      "image/png": "[encoded data removed]",
      "text/plain": [
       "<Figure size 1000x600 with 1 Axes>"
      ]
     },
     "metadata": {},
     "output_type": "display_data"
    }
   ],
   "source": [
    "chart_1 = pd.crosstab(var_col['Age'], var_col['If you had a smartwatch (like the soon to be released Apple Watch), how likely or unlikely would you be to check the weather on that device?'],\n",
    "                           normalize='index')\n",
    "plt.figure(figsize=(10, 6))\n",
    "\n",
    "chart_1.plot(kind='barh', stacked=True, ax=plt.gca(), colormap='Greens', edgecolor='black')\n",
    "\n",
    "plt.ylabel('Age')  \n",
    "plt.xticks([])\n",
    "\n",
    "for i, age_group in enumerate(chart_1.index):\n",
    "    x_offset = 0\n",
    "    for device in chart_1.columns:\n",
    "        plt.text(x_offset + chart_1.loc[age_group, device] / 2, i,\n",
    "                 f'{chart_1.loc[age_group, device]:.1%}',\n",
    "                 ha='center', va='center', fontsize=8, color='black')\n",
    "        x_offset += chart_1.loc[age_group, device]\n",
    "\n",
    "plt.legend(loc='upper center', bbox_to_anchor=(0.5, 1.1), ncol=len(chart_1.columns))\n",
    "\n",
    "plt.show()\n"
   ]
  },
  {
   "cell_type": "markdown",
   "id": "b002a332-2875-4594-a33b-c4d03a2df0fd",
   "metadata": {},
   "source": [
    "# Chart 2"
   ]
  },
  {
   "cell_type": "code",
   "execution_count": 69,
   "id": "68a0bab2-0b8d-4ad1-ab6a-c88f15be4b74",
   "metadata": {
    "tags": []
   },
   "outputs": [
    {
     "data": {
      "image/png": "[encoded data removed]",
      "text/plain": [
       "<Figure size 1000x600 with 1 Axes>"
      ]
     },
     "metadata": {},
     "output_type": "display_data"
    }
   ],
   "source": [
    "chart_2 = pd.crosstab(var_col['Age'], var_col['If you had a smartwatch (like the soon to be released Apple Watch), how likely or unlikely would you be to check the weather on that device?'])\n",
    "plt.figure(figsize=(10, 6))\n",
    "\n",
    "chart_2.plot(kind='barh', stacked=True, ax=plt.gca(), colormap='Greens', edgecolor='black')\n",
    "\n",
    "plt.ylabel('Age')\n",
    "plt.xticks([])\n",
    "\n",
    "for i, age_group in enumerate(chart_2.index):\n",
    "    x_offset = 0\n",
    "    for device in chart_2.columns:\n",
    "        plt.text(x_offset + chart_2.loc[age_group, device] / 2, i,\n",
    "                 f'{chart_2.loc[age_group, device]}',\n",
    "                 ha='center', va='center', fontsize=8, color='black')\n",
    "        x_offset += chart_2.loc[age_group, device]\n",
    "plt.legend(loc='upper center', bbox_to_anchor=(0.5, 1.1), ncol=len(chart_2.columns))\n",
    "plt.show()\n"
   ]
  },
  {
   "cell_type": "code",
   "execution_count": null,
   "id": "d25cad32-9790-48ee-bb58-b1331c3973d8",
   "metadata": {},
   "outputs": [],
   "source": []
  }
 ],
 "metadata": {
  "kernelspec": {
   "display_name": "Python 3 (ipykernel)",
   "language": "python",
   "name": "python3"
  },
  "language_info": {
   "codemirror_mode": {
    "name": "ipython",
    "version": 3
   },
   "file_extension": ".py",
   "mimetype": "text/x-python",
   "name": "python",
   "nbconvert_exporter": "python",
   "pygments_lexer": "ipython3",
   "version": "3.11.4"
  }
 },
 "nbformat": 4,
 "nbformat_minor": 5
}
